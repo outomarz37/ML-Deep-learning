{
 "cells": [
  {
   "cell_type": "code",
   "execution_count": 3,
   "id": "bca6dd2c",
   "metadata": {},
   "outputs": [],
   "source": [
    "import tensorflow as tf\n",
    "from tensorflow import keras\n",
    "import pandas as pd\n",
    "import matplotlib.pyplot as plt"
   ]
  },
  {
   "cell_type": "code",
   "execution_count": 4,
   "id": "cba3a653",
   "metadata": {},
   "outputs": [],
   "source": [
    "#loading the dataset\n",
    "#this is a pixel data for a clothing article\n",
    "fashion_mnist=keras.datasets.fashion_mnist\n",
    "(train_images,train_labels),(test_images,test_labels)=fashion_mnist.load_data()"
   ]
  },
  {
   "cell_type": "code",
   "execution_count": 5,
   "id": "74f951e8",
   "metadata": {},
   "outputs": [
    {
     "data": {
      "text/plain": [
       "(60000, 28, 28)"
      ]
     },
     "execution_count": 5,
     "metadata": {},
     "output_type": "execute_result"
    }
   ],
   "source": [
    "train_images.shape"
   ]
  },
  {
   "cell_type": "code",
   "execution_count": 6,
   "id": "0aec7ac0",
   "metadata": {},
   "outputs": [
    {
     "data": {
      "text/plain": [
       "(60000,)"
      ]
     },
     "execution_count": 6,
     "metadata": {},
     "output_type": "execute_result"
    }
   ],
   "source": [
    "train_labels.shape"
   ]
  },
  {
   "cell_type": "raw",
   "id": "ba218075",
   "metadata": {},
   "source": []
  },
  {
   "cell_type": "code",
   "execution_count": 7,
   "id": "fab063de",
   "metadata": {},
   "outputs": [
    {
     "data": {
      "text/plain": [
       "(10000, 28, 28)"
      ]
     },
     "execution_count": 7,
     "metadata": {},
     "output_type": "execute_result"
    }
   ],
   "source": [
    "test_images.shape"
   ]
  },
  {
   "cell_type": "code",
   "execution_count": 8,
   "id": "a74ff3f8",
   "metadata": {},
   "outputs": [
    {
     "data": {
      "text/plain": [
       "(10000,)"
      ]
     },
     "execution_count": 8,
     "metadata": {},
     "output_type": "execute_result"
    }
   ],
   "source": [
    "test_labels.shape"
   ]
  },
  {
   "cell_type": "code",
   "execution_count": 9,
   "id": "2a643bc8",
   "metadata": {},
   "outputs": [
    {
     "data": {
      "text/plain": [
       "194"
      ]
     },
     "execution_count": 9,
     "metadata": {},
     "output_type": "execute_result"
    }
   ],
   "source": [
    "train_images[0,23,23]#look at one pixel rep from 0-255 rgb"
   ]
  },
  {
   "cell_type": "code",
   "execution_count": 10,
   "id": "ae9cb029",
   "metadata": {},
   "outputs": [
    {
     "data": {
      "text/plain": [
       "array([9, 0, 0, 3, 0, 2, 7, 2, 5, 5], dtype=uint8)"
      ]
     },
     "execution_count": 10,
     "metadata": {},
     "output_type": "execute_result"
    }
   ],
   "source": [
    "train_labels[:10]#look at the first 10 training labels"
   ]
  },
  {
   "cell_type": "code",
   "execution_count": 11,
   "id": "336b2e22",
   "metadata": {},
   "outputs": [],
   "source": [
    "class_names=['T-shirt/top','Trouser','pullover','Dress','Coat'\n",
    "            ,'Sandal','Sneaker','Bag','Ankle boot']\n"
   ]
  },
  {
   "cell_type": "code",
   "execution_count": 12,
   "id": "8848a848",
   "metadata": {
    "scrolled": true
   },
   "outputs": [
    {
     "data": {
      "image/png": "[encoded data removed]",
      "text/plain": [
       "<Figure size 432x288 with 2 Axes>"
      ]
     },
     "metadata": {
      "needs_background": "light"
     },
     "output_type": "display_data"
    }
   ],
   "source": [
    "#plot an image from the dataset\n",
    "plt.figure()\n",
    "plt.imshow(train_images[1])\n",
    "plt.colorbar()\n",
    "plt.grid(False)\n",
    "plt.show()\n"
   ]
  },
  {
   "cell_type": "code",
   "execution_count": 13,
   "id": "f28a9803",
   "metadata": {},
   "outputs": [],
   "source": [
    "#data preprocessing\n",
    "train_images= train_images / 255.0\n",
    "test_images=test_images / 255.0"
   ]
  },
  {
   "cell_type": "code",
   "execution_count": 14,
   "id": "2289c571",
   "metadata": {},
   "outputs": [],
   "source": [
    "#from tensorflow.keras import Sequential\n",
    "#from tensorflow.keras.layers import Flatten,Dense"
   ]
  },
  {
   "cell_type": "code",
   "execution_count": 15,
   "id": "5f01093a",
   "metadata": {},
   "outputs": [],
   "source": [
    "model=keras.Sequential([\n",
    "    keras.layers.Conv1D(filters=32,activation='relu',kernel_size=2, input_shape=(28,28)),\n",
    "    keras.layers.Flatten(),\n",
    "    keras.layers.Dense(128, activation='relu'),\n",
    "    keras.layers.Dense(10, activation='softmax')\n",
    "])\n",
    "model.compile(optimizer='adam',\n",
    "              loss='sparse_categorical_crossentropy',\n",
    "              metrics=['accuracy'])"
   ]
  },
  {
   "cell_type": "code",
   "execution_count": 16,
   "id": "7e584c47",
   "metadata": {},
   "outputs": [],
   "source": [
    "#lets see if it will work now"
   ]
  },
  {
   "cell_type": "code",
   "execution_count": 17,
   "id": "e7c336ae",
   "metadata": {},
   "outputs": [
    {
     "name": "stdout",
     "output_type": "stream",
     "text": [
      "Epoch 1/3\n",
      "1875/1875 [==============================] - 249s 133ms/step - loss: 0.4553 - accuracy: 0.8380\n",
      "Epoch 2/3\n",
      "1875/1875 [==============================] - 72s 39ms/step - loss: 0.3317 - accuracy: 0.8792\n",
      "Epoch 3/3\n",
      "1875/1875 [==============================] - 72s 38ms/step - loss: 0.2924 - accuracy: 0.8915\n"
     ]
    },
    {
     "data": {
      "text/plain": [
       "<tensorflow.python.keras.callbacks.History at 0x1b7e95a67c0>"
      ]
     },
     "execution_count": 17,
     "metadata": {},
     "output_type": "execute_result"
    }
   ],
   "source": [
    "model.fit(train_images,train_labels, epochs=3)"
   ]
  },
  {
   "cell_type": "code",
   "execution_count": 18,
   "id": "f145038b",
   "metadata": {},
   "outputs": [
    {
     "name": "stdout",
     "output_type": "stream",
     "text": [
      "313/313 [==============================] - 4s 13ms/step - loss: 0.3304 - accuracy: 0.8819\n"
     ]
    }
   ],
   "source": [
    " test_loss, test_accuracy=model.evaluate(test_images, test_labels,verbose=1)\n",
    "    "
   ]
  },
  {
   "cell_type": "code",
   "execution_count": 19,
   "id": "cf81446b",
   "metadata": {},
   "outputs": [
    {
     "name": "stdout",
     "output_type": "stream",
     "text": [
      "test_accuracy 0.8819000124931335\n",
      "test_loss 0.33042269945144653\n"
     ]
    }
   ],
   "source": [
    "print('test_accuracy',test_accuracy)\n"
   ]
  },
  {
   "cell_type": "code",
   "execution_count": 20,
   "id": "92845ac1",
   "metadata": {},
   "outputs": [
    {
     "name": "stdout",
     "output_type": "stream",
     "text": [
      "test_loss 0.33042269945144653\n"
     ]
    }
   ],
   "source": [
    "print('test_loss',test_loss)"
   ]
  },
  {
   "cell_type": "code",
   "execution_count": 21,
   "id": "cb2a8655",
   "metadata": {},
   "outputs": [],
   "source": [
    "predictions=model.predict(test_images)"
   ]
  },
  {
   "cell_type": "code",
   "execution_count": 22,
   "id": "12f5349b",
   "metadata": {},
   "outputs": [
    {
     "name": "stdout",
     "output_type": "stream",
     "text": [
      "[1.8033842e-07 7.1321317e-08 6.8577400e-08 5.7895079e-08 8.0250874e-07\n",
      " 2.0954187e-03 5.0870841e-07 1.5673442e-03 1.0825806e-06 9.9633443e-01]\n"
     ]
    }
   ],
   "source": [
    "print(predictions[0])"
   ]
  },
  {
   "cell_type": "code",
   "execution_count": 26,
   "id": "0ead14a2",
   "metadata": {},
   "outputs": [
    {
     "name": "stdout",
     "output_type": "stream",
     "text": [
      "Trouser\n"
     ]
    },
    {
     "data": {
      "image/png": "[encoded data removed]",
      "text/plain": [
       "<Figure size 432x288 with 2 Axes>"
      ]
     },
     "metadata": {
      "needs_background": "light"
     },
     "output_type": "display_data"
    }
   ],
   "source": [
    "import numpy as np\n",
    "print(class_names[np.argmax(predictions[5])])\n",
    "plt.figure()\n",
    "plt.imshow(test_images[5])\n",
    "plt.colorbar()\n",
    "plt.grid(False)\n",
    "plt.show()"
   ]
  },
  {
   "cell_type": "code",
   "execution_count": null,
   "id": "c7f3fa00",
   "metadata": {},
   "outputs": [],
   "source": []
  }
 ],
 "metadata": {
  "kernelspec": {
   "display_name": "Python 3",
   "language": "python",
   "name": "python3"
  },
  "language_info": {
   "codemirror_mode": {
    "name": "ipython",
    "version": 3
   },
   "file_extension": ".py",
   "mimetype": "text/x-python",
   "name": "python",
   "nbconvert_exporter": "python",
   "pygments_lexer": "ipython3",
   "version": "3.8.8"
  }
 },
 "nbformat": 4,
 "nbformat_minor": 5
}
